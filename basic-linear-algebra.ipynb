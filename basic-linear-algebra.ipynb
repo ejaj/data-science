{
 "cells": [
  {
   "cell_type": "code",
   "execution_count": 9,
   "id": "8fe137e6",
   "metadata": {},
   "outputs": [
    {
     "data": {
      "text/plain": [
       "array([[   2, 1834,    1],\n",
       "       [   3, 1534,    2],\n",
       "       [   2,  962,    3]])"
      ]
     },
     "execution_count": 9,
     "metadata": {},
     "output_type": "execute_result"
    }
   ],
   "source": [
    "import numpy as np\n",
    "x = np.array([[2, 1834, 1],[3, 1534, 2],[2, 962, 3]])\n",
    "x"
   ]
  },
  {
   "cell_type": "code",
   "execution_count": 10,
   "id": "58dd259b",
   "metadata": {},
   "outputs": [
    {
     "data": {
      "text/plain": [
       "[8500, 9600, 258800]"
      ]
     },
     "execution_count": 10,
     "metadata": {},
     "output_type": "execute_result"
    }
   ],
   "source": [
    "y = [8500, 9600, 258800]\n",
    "y"
   ]
  },
  {
   "cell_type": "code",
   "execution_count": 11,
   "id": "40e6cd74",
   "metadata": {},
   "outputs": [
    {
     "data": {
      "text/plain": [
       "array([[   2,    3,    2],\n",
       "       [1834, 1534,  962],\n",
       "       [   1,    2,    3]])"
      ]
     },
     "execution_count": 11,
     "metadata": {},
     "output_type": "execute_result"
    }
   ],
   "source": [
    "transpose_x = x.transpose()\n",
    "transpose_x"
   ]
  },
  {
   "cell_type": "code",
   "execution_count": 12,
   "id": "01f4e3ba",
   "metadata": {},
   "outputs": [
    {
     "data": {
      "text/plain": [
       "array([[     17,   10194,      14],\n",
       "       [  10194, 6642156,    7788],\n",
       "       [     14,    7788,      14]])"
      ]
     },
     "execution_count": 12,
     "metadata": {},
     "output_type": "execute_result"
    }
   ],
   "source": [
    "multi_transpose_x_to_x = np.dot(transpose_x, x)\n",
    "multi_transpose_x_to_x"
   ]
  },
  {
   "cell_type": "code",
   "execution_count": 13,
   "id": "9f5d23ff",
   "metadata": {},
   "outputs": [
    {
     "data": {
      "text/plain": [
       "array([[ 2.02512573e+00, -2.10946682e-03, -8.51659467e-01],\n",
       "       [-2.10946682e-03,  2.63025789e-06,  6.46291938e-04],\n",
       "       [-8.51659467e-01,  6.46291938e-04,  5.63565067e-01]])"
      ]
     },
     "execution_count": 13,
     "metadata": {},
     "output_type": "execute_result"
    }
   ],
   "source": [
    "inverse_of_multi_transpose_x_to_x = np.linalg.inv(multi_transpose_x_to_x)\n",
    "inverse_of_multi_transpose_x_to_x"
   ]
  },
  {
   "cell_type": "code",
   "execution_count": 14,
   "id": "ffb77ac1",
   "metadata": {},
   "outputs": [
    {
     "data": {
      "text/plain": [
       "array([   563400, 279281000,    804100])"
      ]
     },
     "execution_count": 14,
     "metadata": {},
     "output_type": "execute_result"
    }
   ],
   "source": [
    "multiplication_transposed_x_y = np.dot(transpose_x, y)\n",
    "multiplication_transposed_x_y"
   ]
  },
  {
   "cell_type": "code",
   "execution_count": 15,
   "id": "1e896071",
   "metadata": {},
   "outputs": [
    {
     "data": {
      "text/plain": [
       "array([-1.32997548e+05,  6.57907908e+01,  1.53834785e+05])"
      ]
     },
     "execution_count": 15,
     "metadata": {},
     "output_type": "execute_result"
    }
   ],
   "source": [
    "theta = np.dot(inverse_of_multi_transpose_x_to_x, multiplication_transposed_x_y)\n",
    "theta"
   ]
  },
  {
   "cell_type": "code",
   "execution_count": null,
   "id": "8bfd1668",
   "metadata": {},
   "outputs": [],
   "source": []
  }
 ],
 "metadata": {
  "kernelspec": {
   "display_name": "Python 3 (ipykernel)",
   "language": "python",
   "name": "python3"
  },
  "language_info": {
   "codemirror_mode": {
    "name": "ipython",
    "version": 3
   },
   "file_extension": ".py",
   "mimetype": "text/x-python",
   "name": "python",
   "nbconvert_exporter": "python",
   "pygments_lexer": "ipython3",
   "version": "3.10.6"
  }
 },
 "nbformat": 4,
 "nbformat_minor": 5
}
