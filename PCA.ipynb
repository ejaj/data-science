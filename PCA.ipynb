{
 "cells": [
  {
   "cell_type": "code",
   "execution_count": 1,
   "id": "a6220e2a",
   "metadata": {},
   "outputs": [],
   "source": [
    "import numpy as np\n",
    "from matplotlib import pyplot as plt"
   ]
  },
  {
   "cell_type": "code",
   "execution_count": 8,
   "id": "129b937e",
   "metadata": {},
   "outputs": [],
   "source": [
    "x1 = [2.5, 0.5, 2.2, 1.9, 3.1, 2.3, 2, 1, 1.5, 1.1]"
   ]
  },
  {
   "cell_type": "code",
   "execution_count": 9,
   "id": "6f188e89",
   "metadata": {},
   "outputs": [],
   "source": [
    "x2 = [2.4, 0.7, 2.9, 2.2, 3.0, 2.7, 1.6, 1.1, 1.6, 0.9]"
   ]
  },
  {
   "cell_type": "code",
   "execution_count": 10,
   "id": "8755235c",
   "metadata": {},
   "outputs": [
    {
     "data": {
      "image/png": "[encoded data removed]",
      "text/plain": [
       "<Figure size 640x480 with 1 Axes>"
      ]
     },
     "metadata": {},
     "output_type": "display_data"
    }
   ],
   "source": [
    "plt.figure(\"X1 vs X2\")\n",
    "plt.plot(x1, x2, '*')\n",
    "plt.xlabel('X1')\n",
    "plt.ylabel('X2')\n",
    "plt.show()"
   ]
  },
  {
   "cell_type": "code",
   "execution_count": 14,
   "id": "692b1c90",
   "metadata": {},
   "outputs": [
    {
     "data": {
      "text/plain": [
       "0.7449161026585478"
      ]
     },
     "execution_count": 14,
     "metadata": {},
     "output_type": "execute_result"
    }
   ],
   "source": [
    "np.std(x1)"
   ]
  },
  {
   "cell_type": "code",
   "execution_count": 15,
   "id": "25a23025",
   "metadata": {},
   "outputs": [
    {
     "data": {
      "text/plain": [
       "0.8030566605165541"
      ]
     },
     "execution_count": 15,
     "metadata": {},
     "output_type": "execute_result"
    }
   ],
   "source": [
    "np.std(x2)"
   ]
  },
  {
   "cell_type": "code",
   "execution_count": 11,
   "id": "daaae23a",
   "metadata": {},
   "outputs": [
    {
     "data": {
      "text/plain": [
       "array([ 0.92627881, -1.7585873 ,  0.52354889,  0.12081898,  1.73173864,\n",
       "        0.6577922 ,  0.25506228, -1.08737078, -0.41615425, -0.95312747])"
      ]
     },
     "execution_count": 11,
     "metadata": {},
     "output_type": "execute_result"
    }
   ],
   "source": [
    "Z1 = (x1 - np.mean(x1)) / np.std(x1)\n",
    "Z1"
   ]
  },
  {
   "cell_type": "code",
   "execution_count": 12,
   "id": "6639a647",
   "metadata": {},
   "outputs": [
    {
     "data": {
      "text/plain": [
       "array([ 0.61016865, -1.506743  ,  1.23278973,  0.36112022,  1.35731394,\n",
       "        0.9837413 , -0.38602507, -1.00864614, -0.38602507, -1.25769457])"
      ]
     },
     "execution_count": 12,
     "metadata": {},
     "output_type": "execute_result"
    }
   ],
   "source": [
    "Z2 = (x2 - np.mean(x2)) / np.std(x2)\n",
    "Z2"
   ]
  },
  {
   "cell_type": "code",
   "execution_count": 13,
   "id": "333e9f3e",
   "metadata": {},
   "outputs": [
    {
     "data": {
      "text/plain": [
       "array([[ 0.92627881, -1.7585873 ,  0.52354889,  0.12081898,  1.73173864,\n",
       "         0.6577922 ,  0.25506228, -1.08737078, -0.41615425, -0.95312747],\n",
       "       [ 0.61016865, -1.506743  ,  1.23278973,  0.36112022,  1.35731394,\n",
       "         0.9837413 , -0.38602507, -1.00864614, -0.38602507, -1.25769457]])"
      ]
     },
     "execution_count": 13,
     "metadata": {},
     "output_type": "execute_result"
    }
   ],
   "source": [
    "Z3 = np.array([Z1.T, Z2.T])\n",
    "Z3"
   ]
  },
  {
   "cell_type": "code",
   "execution_count": null,
   "id": "7cdf593c",
   "metadata": {},
   "outputs": [],
   "source": []
  },
  {
   "cell_type": "markdown",
   "id": "b285d9fe",
   "metadata": {},
   "source": [
    "# Calculating covariance"
   ]
  },
  {
   "cell_type": "code",
   "execution_count": 21,
   "id": "55bf5cb7",
   "metadata": {},
   "outputs": [
    {
     "data": {
      "text/plain": [
       "array([[1.11111111, 1.0288103 ],\n",
       "       [1.0288103 , 1.11111111]])"
      ]
     },
     "execution_count": 21,
     "metadata": {},
     "output_type": "execute_result"
    }
   ],
   "source": [
    "covariance = np.cov(np.array([Z1, Z2]))\n",
    "covariance"
   ]
  },
  {
   "cell_type": "code",
   "execution_count": 22,
   "id": "87713ef0",
   "metadata": {},
   "outputs": [],
   "source": []
  },
  {
   "cell_type": "code",
   "execution_count": 24,
   "id": "4fef58ca",
   "metadata": {},
   "outputs": [
    {
     "data": {
      "text/plain": [
       "array([0.08230081, 2.13992141])"
      ]
     },
     "execution_count": 24,
     "metadata": {},
     "output_type": "execute_result"
    }
   ],
   "source": [
    "egn_values, egn_vactors = np.linalg.eig(covariance)\n",
    "egn_values"
   ]
  },
  {
   "cell_type": "code",
   "execution_count": null,
   "id": "295cdffb",
   "metadata": {},
   "outputs": [],
   "source": []
  },
  {
   "cell_type": "code",
   "execution_count": 25,
   "id": "54bc395d",
   "metadata": {},
   "outputs": [
    {
     "data": {
      "text/plain": [
       "array([[-0.70710678, -0.70710678],\n",
       "       [ 0.70710678, -0.70710678]])"
      ]
     },
     "execution_count": 25,
     "metadata": {},
     "output_type": "execute_result"
    }
   ],
   "source": [
    "egn_vactors"
   ]
  },
  {
   "cell_type": "code",
   "execution_count": 26,
   "id": "f858268f",
   "metadata": {},
   "outputs": [
    {
     "data": {
      "text/plain": [
       "array([[ 0.22352364],\n",
       "       [-0.17808082],\n",
       "       [-0.501509  ],\n",
       "       [-0.16991864],\n",
       "       [ 0.26475825],\n",
       "       [-0.23048082],\n",
       "       [ 0.45331721],\n",
       "       [-0.05566672],\n",
       "       [-0.02130455],\n",
       "       [ 0.21536146]])"
      ]
     },
     "execution_count": 26,
     "metadata": {},
     "output_type": "execute_result"
    }
   ],
   "source": [
    "new_vector = np.matmul(Z3.T, egn_vactors[1:].T)\n",
    "new_vector"
   ]
  },
  {
   "cell_type": "code",
   "execution_count": 27,
   "id": "575ba3b6",
   "metadata": {},
   "outputs": [],
   "source": [
    "from sklearn.decomposition import PCA"
   ]
  },
  {
   "cell_type": "code",
   "execution_count": 28,
   "id": "8bdb1665",
   "metadata": {},
   "outputs": [
    {
     "data": {
      "text/plain": [
       "array([[-1.08643242],\n",
       "       [ 2.3089372 ],\n",
       "       [-1.24191895],\n",
       "       [-0.34078247],\n",
       "       [-2.18429003],\n",
       "       [-1.16073946],\n",
       "       [ 0.09260467],\n",
       "       [ 1.48210777],\n",
       "       [ 0.56722643],\n",
       "       [ 1.56328726]])"
      ]
     },
     "execution_count": 28,
     "metadata": {},
     "output_type": "execute_result"
    }
   ],
   "source": [
    "pca = PCA(n_components=1)\n",
    "PCs = pca.fit_transform(Z3.T)\n",
    "PCs"
   ]
  },
  {
   "cell_type": "code",
   "execution_count": null,
   "id": "04462b49",
   "metadata": {},
   "outputs": [],
   "source": []
  }
 ],
 "metadata": {
  "kernelspec": {
   "display_name": "Python 3 (ipykernel)",
   "language": "python",
   "name": "python3"
  },
  "language_info": {
   "codemirror_mode": {
    "name": "ipython",
    "version": 3
   },
   "file_extension": ".py",
   "mimetype": "text/x-python",
   "name": "python",
   "nbconvert_exporter": "python",
   "pygments_lexer": "ipython3",
   "version": "3.10.6"
  }
 },
 "nbformat": 4,
 "nbformat_minor": 5
}
