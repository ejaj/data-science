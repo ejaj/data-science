{
 "cells": [
  {
   "cell_type": "code",
   "execution_count": 1,
   "id": "b8881c71",
   "metadata": {},
   "outputs": [],
   "source": [
    "from skimage.color import rgb2gray\n",
    "from skimage import data\n",
    "import matplotlib.pyplot as plt\n",
    "import numpy as np\n",
    "from scipy.linalg import svd"
   ]
  },
  {
   "cell_type": "code",
   "execution_count": 3,
   "id": "613fc5d2",
   "metadata": {},
   "outputs": [
    {
     "data": {
      "text/plain": [
       "array([[ 3,  3,  2],\n",
       "       [ 2,  3, -2]])"
      ]
     },
     "execution_count": 3,
     "metadata": {},
     "output_type": "execute_result"
    }
   ],
   "source": [
    "X = np.array([[3, 3, 2], [2, 3, -2]])\n",
    "X"
   ]
  },
  {
   "cell_type": "code",
   "execution_count": 5,
   "id": "54209a71",
   "metadata": {},
   "outputs": [
    {
     "name": "stdout",
     "output_type": "stream",
     "text": [
      "U:  [[-0.7815437 -0.6238505]\n",
      " [-0.6238505  0.7815437]]\n",
      "Singular array [5.54801894 2.86696457]\n",
      "V^{T} [[-0.64749817 -0.7599438  -0.05684667]\n",
      " [-0.10759258  0.16501062 -0.9804057 ]\n",
      " [-0.75443354  0.62869461  0.18860838]]\n"
     ]
    }
   ],
   "source": [
    "U, singular, V_transpose = svd(X)\n",
    "print(\"U: \", U)\n",
    "print(\"Singular array\", singular)\n",
    "print(\"V^{T}\", V_transpose)"
   ]
  },
  {
   "cell_type": "markdown",
   "id": "fe59bc78",
   "metadata": {},
   "source": [
    "# Calculate Pseudo inverse"
   ]
  },
  {
   "cell_type": "code",
   "execution_count": 7,
   "id": "aa68aee1",
   "metadata": {},
   "outputs": [
    {
     "name": "stdout",
     "output_type": "stream",
     "text": [
      "[[ 0.11462451  0.04347826]\n",
      " [ 0.07114625  0.13043478]\n",
      " [ 0.22134387 -0.26086957]]\n"
     ]
    }
   ],
   "source": [
    "singular_inv = 1.0 / singular\n",
    "s_inv = np.zeros(X.shape)\n",
    "s_inv[0][0] = singular_inv[0]\n",
    "s_inv[1][1] = singular_inv[1]\n",
    "M = np.dot(np.dot(V_transpose.T, s_inv.T), U.T)\n",
    "print(M)"
   ]
  },
  {
   "cell_type": "code",
   "execution_count": null,
   "id": "1f816bee",
   "metadata": {},
   "outputs": [],
   "source": []
  }
 ],
 "metadata": {
  "kernelspec": {
   "display_name": "Python 3 (ipykernel)",
   "language": "python",
   "name": "python3"
  },
  "language_info": {
   "codemirror_mode": {
    "name": "ipython",
    "version": 3
   },
   "file_extension": ".py",
   "mimetype": "text/x-python",
   "name": "python",
   "nbconvert_exporter": "python",
   "pygments_lexer": "ipython3",
   "version": "3.10.6"
  }
 },
 "nbformat": 4,
 "nbformat_minor": 5
}
